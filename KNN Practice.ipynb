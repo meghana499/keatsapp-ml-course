{
 "cells": [
  {
   "cell_type": "code",
   "execution_count": 2,
   "metadata": {},
   "outputs": [],
   "source": [
    "import pandas as pd\n",
    "import numpy as np\n",
    "import matplotlib.pyplot as plt"
   ]
  },
  {
   "cell_type": "code",
   "execution_count": 4,
   "metadata": {},
   "outputs": [],
   "source": [
    "data= pd.read_csv(\"linearsep.csv\")\n"
   ]
  },
  {
   "cell_type": "code",
   "execution_count": 6,
   "metadata": {},
   "outputs": [
    {
     "data": {
      "text/plain": [
       "(array([[-0.177  ,  0.93   ],\n",
       "        [ 1.98   ,  1.77   ],\n",
       "        [ 1.8    ,  1.7    ],\n",
       "        [-0.771  ,  2.36   ],\n",
       "        [-0.308  ,  1.59   ],\n",
       "        [ 0.615  ,  2.43   ],\n",
       "        [ 1.09   ,  2.22   ],\n",
       "        [-0.835  ,  2.36   ],\n",
       "        [ 2.48   ,  1.33   ],\n",
       "        [ 1.2    ,  1.83   ],\n",
       "        [ 2.19   ,  0.823  ],\n",
       "        [ 1.68   ,  1.04   ],\n",
       "        [ 1.15   ,  2.07   ],\n",
       "        [ 1.36   ,  0.568  ],\n",
       "        [ 1.39   ,  1.83   ],\n",
       "        [ 1.87   ,  1.19   ],\n",
       "        [ 0.312  ,  2.25   ],\n",
       "        [-0.0818 ,  1.7    ],\n",
       "        [ 0.905  ,  2.61   ],\n",
       "        [-0.436  ,  2.02   ],\n",
       "        [ 0.814  ,  2.14   ],\n",
       "        [ 3.11   ,  2.27   ],\n",
       "        [-0.256  ,  1.71   ],\n",
       "        [ 1.89   ,  2.72   ],\n",
       "        [ 2.3    ,  3.89   ],\n",
       "        [-0.114  ,  0.856  ],\n",
       "        [ 1.7    ,  3.48   ],\n",
       "        [ 1.84   ,  0.927  ],\n",
       "        [ 1.6    ,  1.3    ],\n",
       "        [ 1.14   ,  2.83   ],\n",
       "        [ 0.57   ,  1.82   ],\n",
       "        [ 0.251  ,  1.32   ],\n",
       "        [-0.398  ,  1.98   ],\n",
       "        [ 1.63   ,  0.882  ],\n",
       "        [ 3.11   ,  1.74   ],\n",
       "        [-0.00567,  1.12   ],\n",
       "        [ 1.37   ,  2.14   ],\n",
       "        [ 2.7    ,  3.55   ],\n",
       "        [ 2.     ,  1.1    ],\n",
       "        [ 2.44   ,  1.44   ],\n",
       "        [-0.31   ,  0.913  ],\n",
       "        [ 0.0853 ,  1.72   ],\n",
       "        [ 2.06   ,  1.6    ],\n",
       "        [ 1.61   ,  2.07   ],\n",
       "        [ 1.4    ,  0.693  ],\n",
       "        [ 1.68   ,  1.05   ],\n",
       "        [ 0.603  ,  2.19   ],\n",
       "        [-0.801  ,  1.9    ],\n",
       "        [ 2.29   ,  2.     ],\n",
       "        [-1.08   ,  2.78   ],\n",
       "        [ 0.673  ,  1.08   ],\n",
       "        [ 2.97   ,  2.12   ],\n",
       "        [ 0.68   ,  2.1    ],\n",
       "        [-0.448  ,  3.18   ],\n",
       "        [-0.5    ,  2.02   ],\n",
       "        [ 1.85   ,  3.67   ],\n",
       "        [ 1.72   ,  1.78   ],\n",
       "        [ 2.25   ,  3.12   ],\n",
       "        [ 0.314  ,  1.35   ],\n",
       "        [-0.284  ,  1.86   ],\n",
       "        [ 2.13   ,  2.58   ],\n",
       "        [ 1.58   ,  2.02   ],\n",
       "        [-1.08   ,  1.4    ],\n",
       "        [ 1.2    ,  2.4    ],\n",
       "        [ 1.38   ,  1.15   ],\n",
       "        [-1.66   ,  1.46   ],\n",
       "        [ 1.24   ,  1.46   ],\n",
       "        [ 1.88   ,  1.72   ],\n",
       "        [ 2.91   ,  2.94   ],\n",
       "        [-0.481  ,  1.79   ],\n",
       "        [ 2.44   ,  1.35   ],\n",
       "        [ 2.57   ,  0.993  ],\n",
       "        [ 2.45   ,  2.49   ],\n",
       "        [ 0.46   ,  0.684  ],\n",
       "        [-0.391  ,  2.13   ],\n",
       "        [-1.27   ,  1.16   ],\n",
       "        [ 1.42   ,  2.57   ],\n",
       "        [-0.568  ,  0.99   ],\n",
       "        [-1.8    ,  1.23   ],\n",
       "        [ 0.18   ,  1.26   ],\n",
       "        [ 2.85   ,  1.85   ],\n",
       "        [ 1.85   ,  1.15   ],\n",
       "        [ 2.23   ,  3.15   ],\n",
       "        [-0.55   ,  1.08   ],\n",
       "        [-0.791  ,  1.65   ],\n",
       "        [-0.132  ,  1.94   ],\n",
       "        [ 0.703  ,  1.36   ],\n",
       "        [ 0.277  ,  2.67   ],\n",
       "        [ 0.61   ,  2.17   ],\n",
       "        [-0.53   ,  2.02   ],\n",
       "        [ 1.84   ,  2.11   ],\n",
       "        [ 0.284  ,  2.64   ],\n",
       "        [ 1.9    ,  2.26   ],\n",
       "        [ 2.07   ,  2.61   ],\n",
       "        [-1.72   ,  1.28   ],\n",
       "        [ 2.63   ,  1.27   ],\n",
       "        [-0.0403 ,  1.78   ],\n",
       "        [-0.787  ,  1.4    ],\n",
       "        [ 2.7    ,  1.59   ],\n",
       "        [ 1.29   ,  2.75   ]]),\n",
       " array([1., 0., 0., 1., 1., 1., 0., 1., 0., 1., 0., 0., 0., 0., 0., 0., 1.,\n",
       "        1., 1., 1., 1., 0., 1., 0., 0., 1., 0., 0., 0., 1., 1., 1., 1., 0.,\n",
       "        0., 1., 0., 0., 0., 0., 1., 1., 0., 0., 1., 0., 1., 1., 0., 1., 1.,\n",
       "        0., 1., 1., 1., 0., 0., 0., 1., 1., 0., 0., 1., 0., 0., 1., 0., 0.,\n",
       "        0., 1., 0., 0., 0., 1., 1., 1., 0., 1., 1., 1., 0., 0., 0., 1., 1.,\n",
       "        1., 0., 1., 1., 1., 0., 1., 0., 0., 1., 0., 1., 1., 0., 1.]))"
      ]
     },
     "execution_count": 6,
     "metadata": {},
     "output_type": "execute_result"
    }
   ],
   "source": [
    "x= data.iloc[:, [0,1]].values\n",
    "y= data.iloc[:, 2].values\n",
    "x, y"
   ]
  },
  {
   "cell_type": "code",
   "execution_count": 7,
   "metadata": {},
   "outputs": [
    {
     "ename": "ModuleNotFoundError",
     "evalue": "No module named 'sklearn'",
     "output_type": "error",
     "traceback": [
      "\u001b[0;31m---------------------------------------------------------------------------\u001b[0m",
      "\u001b[0;31mModuleNotFoundError\u001b[0m                       Traceback (most recent call last)",
      "\u001b[0;32m<ipython-input-7-73edc048c06b>\u001b[0m in \u001b[0;36m<module>\u001b[0;34m\u001b[0m\n\u001b[0;32m----> 1\u001b[0;31m \u001b[0;32mfrom\u001b[0m \u001b[0msklearn\u001b[0m\u001b[0;34m.\u001b[0m\u001b[0mmodel_selection\u001b[0m \u001b[0;32mimport\u001b[0m \u001b[0mtrain_test_split\u001b[0m\u001b[0;34m\u001b[0m\u001b[0;34m\u001b[0m\u001b[0m\n\u001b[0m",
      "\u001b[0;31mModuleNotFoundError\u001b[0m: No module named 'sklearn'"
     ]
    }
   ],
   "source": [
    "from sklearn.model_selection import train_test_split\n"
   ]
  },
  {
   "cell_type": "code",
   "execution_count": 8,
   "metadata": {},
   "outputs": [
    {
     "name": "stdout",
     "output_type": "stream",
     "text": [
      "Collecting scikit-learn\n",
      "  Using cached scikit_learn-0.22.2.post1-cp37-cp37m-macosx_10_9_x86_64.whl (7.1 MB)\n",
      "Requirement already satisfied: numpy>=1.11.0 in /usr/local/lib/python3.7/site-packages (from scikit-learn) (1.18.3)\n",
      "Collecting joblib>=0.11\n",
      "  Using cached joblib-0.14.1-py2.py3-none-any.whl (294 kB)\n",
      "Collecting scipy>=0.17.0\n",
      "  Using cached scipy-1.4.1-cp37-cp37m-macosx_10_6_intel.whl (28.4 MB)\n",
      "Installing collected packages: joblib, scipy, scikit-learn\n",
      "Successfully installed joblib-0.14.1 scikit-learn-0.22.2.post1 scipy-1.4.1\n"
     ]
    }
   ],
   "source": [
    "!pip3 install scikit-learn"
   ]
  },
  {
   "cell_type": "code",
   "execution_count": 11,
   "metadata": {},
   "outputs": [],
   "source": [
    "from sklearn.model_selection import train_test_split\n",
    "x_train, x_test, y_train, y_test = train_test_split(x, y, test_size = 0.25, random_state = 0)"
   ]
  },
  {
   "cell_type": "code",
   "execution_count": 12,
   "metadata": {},
   "outputs": [],
   "source": [
    "from sklearn.preprocessing import StandardScaler\n",
    "sc = StandardScaler()\n",
    "x_train = sc.fit_transform(x_train)\n",
    "x_test = sc.transform(x_test)"
   ]
  },
  {
   "cell_type": "code",
   "execution_count": 23,
   "metadata": {},
   "outputs": [
    {
     "data": {
      "text/plain": [
       "KNeighborsClassifier(algorithm='auto', leaf_size=30, metric='minkowski',\n",
       "                     metric_params=None, n_jobs=None, n_neighbors=5, p=1,\n",
       "                     weights='uniform')"
      ]
     },
     "execution_count": 23,
     "metadata": {},
     "output_type": "execute_result"
    }
   ],
   "source": [
    "from sklearn.neighbors import KNeighborsClassifier\n",
    "classifier= KNeighborsClassifier(p=1)\n",
    "classifier.fit(x_train, y_train)\n"
   ]
  },
  {
   "cell_type": "code",
   "execution_count": 24,
   "metadata": {},
   "outputs": [
    {
     "data": {
      "text/plain": [
       "array([0., 1., 0., 0., 1., 0., 1., 1., 1., 0., 1., 0., 1., 0., 1., 1., 1.,\n",
       "       0., 0., 0., 0., 1., 1., 0., 0.])"
      ]
     },
     "execution_count": 24,
     "metadata": {},
     "output_type": "execute_result"
    }
   ],
   "source": [
    "y_pred= classifier.predict(x_test)\n",
    "y_pred"
   ]
  },
  {
   "cell_type": "code",
   "execution_count": 25,
   "metadata": {},
   "outputs": [
    {
     "data": {
      "text/plain": [
       "array([[13,  1],\n",
       "       [ 0, 11]])"
      ]
     },
     "execution_count": 25,
     "metadata": {},
     "output_type": "execute_result"
    }
   ],
   "source": [
    "from sklearn.metrics import confusion_matrix\n",
    "cm = confusion_matrix(y_test, y_pred)\n",
    "cm"
   ]
  },
  {
   "cell_type": "code",
   "execution_count": 26,
   "metadata": {},
   "outputs": [
    {
     "name": "stderr",
     "output_type": "stream",
     "text": [
      "'c' argument looks like a single numeric RGB or RGBA sequence, which should be avoided as value-mapping will have precedence in case its length matches with 'x' & 'y'.  Please use a 2-D array with a single row if you really want to specify the same RGB or RGBA value for all points.\n",
      "'c' argument looks like a single numeric RGB or RGBA sequence, which should be avoided as value-mapping will have precedence in case its length matches with 'x' & 'y'.  Please use a 2-D array with a single row if you really want to specify the same RGB or RGBA value for all points.\n"
     ]
    },
    {
     "data": {
      "image/png": "[encoded data removed]",
      "text/plain": [
       "<Figure size 432x288 with 1 Axes>"
      ]
     },
     "metadata": {
      "needs_background": "light"
     },
     "output_type": "display_data"
    }
   ],
   "source": [
    "from matplotlib.colors import ListedColormap\n",
    "X_set, y_set = x_train, y_train\n",
    "X1, X2 = np.meshgrid(np.arange(start = X_set[:, 0].min() - 1, stop = X_set[:, 0].max() + 1, step = 0.01),\n",
    "                     np.arange(start = X_set[:, 1].min() - 1, stop = X_set[:, 1].max() + 1, step = 0.01))\n",
    "plt.contourf(X1, X2, classifier.predict(np.array([X1.ravel(), X2.ravel()]).T).reshape(X1.shape),\n",
    "             alpha = 0.75, cmap = ListedColormap(('blue', 'white')))\n",
    "plt.xlim(X1.min(), X1.max())\n",
    "plt.ylim(X2.min(), X2.max())\n",
    "for i, j in enumerate(np.unique(y_set)):\n",
    "    plt.scatter(X_set[y_set == j, 0], X_set[y_set == j, 1],\n",
    "                c = ListedColormap(('red', 'green'))(i), label = j)\n",
    "plt.title('K-NN (Training set)')\n",
    "plt.xlabel('Age')\n",
    "plt.ylabel('Estimated Salary')\n",
    "plt.legend()\n",
    "plt.show()"
   ]
  },
  {
   "cell_type": "code",
   "execution_count": 27,
   "metadata": {},
   "outputs": [
    {
     "name": "stderr",
     "output_type": "stream",
     "text": [
      "'c' argument looks like a single numeric RGB or RGBA sequence, which should be avoided as value-mapping will have precedence in case its length matches with 'x' & 'y'.  Please use a 2-D array with a single row if you really want to specify the same RGB or RGBA value for all points.\n",
      "'c' argument looks like a single numeric RGB or RGBA sequence, which should be avoided as value-mapping will have precedence in case its length matches with 'x' & 'y'.  Please use a 2-D array with a single row if you really want to specify the same RGB or RGBA value for all points.\n"
     ]
    },
    {
     "data": {
      "image/png": "[encoded data removed]",
      "text/plain": [
       "<Figure size 432x288 with 1 Axes>"
      ]
     },
     "metadata": {
      "needs_background": "light"
     },
     "output_type": "display_data"
    }
   ],
   "source": [
    "from matplotlib.colors import ListedColormap\n",
    "X_set, y_set = x_test, y_test\n",
    "X1, X2 = np.meshgrid(np.arange(start = X_set[:, 0].min() - 1, stop = X_set[:, 0].max() + 1, step = 0.01),\n",
    "                     np.arange(start = X_set[:, 1].min() - 1, stop = X_set[:, 1].max() + 1, step = 0.01))\n",
    "plt.contourf(X1, X2, classifier.predict(np.array([X1.ravel(), X2.ravel()]).T).reshape(X1.shape),\n",
    "             alpha = 0.75, cmap = ListedColormap(('blue', 'white')))\n",
    "plt.xlim(X1.min(), X1.max())\n",
    "plt.ylim(X2.min(), X2.max())\n",
    "for i, j in enumerate(np.unique(y_set)):\n",
    "    plt.scatter(X_set[y_set == j, 0], X_set[y_set == j, 1],\n",
    "                c = ListedColormap(('red', 'green'))(i), label = j)\n",
    "plt.title('K-NN (Test set)')\n",
    "plt.xlabel('Age')\n",
    "plt.ylabel('Estimated Salary')\n",
    "plt.legend()\n",
    "plt.show()"
   ]
  },
  {
   "cell_type": "code",
   "execution_count": null,
   "metadata": {},
   "outputs": [],
   "source": []
  }
 ],
 "metadata": {
  "kernelspec": {
   "display_name": "Python 3",
   "language": "python",
   "name": "python3"
  },
  "language_info": {
   "codemirror_mode": {
    "name": "ipython",
    "version": 3
   },
   "file_extension": ".py",
   "mimetype": "text/x-python",
   "name": "python",
   "nbconvert_exporter": "python",
   "pygments_lexer": "ipython3",
   "version": "3.7.7"
  }
 },
 "nbformat": 4,
 "nbformat_minor": 4
}
